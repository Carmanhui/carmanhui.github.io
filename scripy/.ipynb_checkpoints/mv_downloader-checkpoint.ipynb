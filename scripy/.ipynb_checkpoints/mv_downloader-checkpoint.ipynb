{
 "cells": [
  {
   "cell_type": "code",
   "execution_count": null,
   "metadata": {},
   "outputs": [],
   "source": [
    "import re\n",
    "import requests\n",
    "import webbrowser\n",
    "import urllib.request\n",
    "\n",
    "def getHtml(url):    \n",
    "    page = requests.get(url)\n",
    "    html =page.text\n",
    "    return html  \n",
    "\n",
    "def mv(url,name):\n",
    "    mvid = url.split('/')[-1]\n",
    "    url = 'http://www.yinyuetai.com/insite/get-video-info?flex=true&videoId={}'.format(mvid)\n",
    "    html = getHtml(url)\n",
    "    reg = r'http://\\w*?\\.yinyuetai\\.com/uploads/videos/common/.*?(?=&br)'\n",
    "    pattern = re.compile(reg)\n",
    "    findlist = re.findall(pattern,html)\n",
    "    print(findlist)\n",
    "    mvurl = findlist[-1]\n",
    "    mp4 = mvurl.split('?')[0]\n",
    "    mp4 = mp4[-4:]\n",
    "    urllib.request.urlretrieve(mvurl,'{}{}'.format(name,mp4))\n",
    "    \n",
    "if __name__=='__main__':  \n",
    "#     url = \"http://v.yinyuetai.com/video/3191281\"   \n",
    "    url = input('请输入mv的url：')\n",
    "    name = input('请输入歌名：')\n",
    "    mv(url,name)  \n"
   ]
  },
  {
   "cell_type": "code",
   "execution_count": null,
   "metadata": {
    "collapsed": true
   },
   "outputs": [],
   "source": []
  }
 ],
 "metadata": {
  "kernelspec": {
   "display_name": "Python 3",
   "language": "python",
   "name": "python3"
  },
  "language_info": {
   "codemirror_mode": {
    "name": "ipython",
    "version": 3
   },
   "file_extension": ".py",
   "mimetype": "text/x-python",
   "name": "python",
   "nbconvert_exporter": "python",
   "pygments_lexer": "ipython3",
   "version": "3.6.5"
  }
 },
 "nbformat": 4,
 "nbformat_minor": 2
}
